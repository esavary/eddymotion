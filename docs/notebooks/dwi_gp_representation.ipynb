{
 "cells": [
  {
   "cell_type": "markdown",
   "id": "486923b289155658",
   "metadata": {},
   "source": [
    "Gaussian process notebook"
   ]
  },
  {
   "cell_type": "code",
   "execution_count": null,
   "id": "da2274009534db61",
   "metadata": {},
   "outputs": [],
   "source": [
    "import tempfile\n",
    "from pathlib import Path\n",
    "\n",
    "import numpy as np\n",
    "from sklearn.gaussian_process.kernels import DotProduct, WhiteKernel\n",
    "\n",
    "from eddymotion import model\n",
    "from eddymotion.data.dmri import DWI\n",
    "from eddymotion.data.splitting import lovo_split\n",
    "\n",
    "datadir = Path(\"../../test\")  # Adapt to your local path or download to a temp location using wget\n",
    "\n",
    "kernel = DotProduct() + WhiteKernel()\n",
    "\n",
    "dwi = DWI.from_filename(datadir / \"dwi.h5\")\n",
    "\n",
    "_dwi_data = dwi.dataobj\n",
    "# Use a subset of the data for now to see that something is written to the\n",
    "# output\n",
    "# bvecs = dwi.gradients[:3, :].T\n",
    "bvecs = dwi.gradients[:3, 10:15].T   # b0 values have already been masked\n",
    "# bvals = dwi.gradients[3:, 10:13].T  # Only for inspection purposes: [[1005.], [1000.], [ 995.]]\n",
    "dwi_data = _dwi_data[60:63, 60:64, 40:45, 10:15]\n",
    "\n",
    "# ToDo\n",
    "# Provide proper values/estimates for these\n",
    "a = 1\n",
    "h = 1  # should be a NIfTI image\n",
    "\n",
    "num_iterations = 5\n",
    "gp = model.GaussianProcessModel(\n",
    "    dwi=dwi, a=a, h=h, kernel=kernel, num_iterations=num_iterations\n",
    ")\n",
    "indices = list(range(bvecs.shape[0]))\n",
    "# ToDo\n",
    "# This should be done within the GP model class\n",
    "# Apply lovo strategy properly\n",
    "# Vectorize and parallelize\n",
    "result_mean = np.zeros_like(dwi_data)\n",
    "result_stddev = np.zeros_like(dwi_data)\n",
    "\n",
    "for idx in indices:\n",
    "    lovo_idx = np.ones(len(indices), dtype=bool)\n",
    "    lovo_idx[idx] = False\n",
    "    X_train = bvecs[lovo_idx]\n",
    "    X_test = bvecs[~lovo_idx]\n",
    "    y_train = dwi_data[..., lovo_idx]\n",
    "    y_test = dwi_data[..., ~lovo_idx]\n",
    "    x, y, z, n_train  = y_train.shape\n",
    "    y_train_flat = y_train.reshape(n_train, x*y*z )\n",
    "\n",
    "    gp.fit(X_train, y_train_flat)\n",
    "\n",
    "    # Predict for the test data\n",
    "    pred_mean, pred_stddev = gp.predict(X_test, return_std=True)  # Can take multiple values X[:2, :]\n",
    "\n",
    "    # Reshape the predictions back to the original voxel grid\n",
    "    pred_mean_reshaped = pred_mean.reshape(dwi_data.shape[:-1])\n",
    "    pred_stddev_reshaped = pred_stddev.reshape(dwi_data.shape[:-1])\n",
    "\n",
    "    # Store the prediction result\n",
    "    result_mean[..., idx] = pred_mean_reshaped\n",
    "    result_stddev[..., idx] = pred_stddev_reshaped"
   ]
  },
  {
   "cell_type": "markdown",
   "id": "77e77cd4c73409d3",
   "metadata": {},
   "source": [
    "Plot the data"
   ]
  },
  {
   "cell_type": "code",
   "execution_count": null,
   "id": "4e51f22890fb045a",
   "metadata": {},
   "outputs": [],
   "source": [
    "from matplotlib import pyplot as plt \n",
    "%matplotlib inline\n",
    "\n",
    "s = dwi_data[1, 1, 2, :]\n",
    "s_hat_mean = result_mean[1, 1, 2, :]\n",
    "s_hat_stddev = result_stddev[1, 1, 2, :]\n",
    "x = np.asarray(indices)\n",
    "\n",
    "fig, ax = plt.subplots()\n",
    "ax.plot(x, s_hat_mean, c=\"orange\", label=\"predicted\")\n",
    "plt.fill_between(\n",
    "    x.ravel(),\n",
    "    s_hat_mean - 1.96 * s_hat_stddev,\n",
    "    s_hat_mean + 1.96 * s_hat_stddev,\n",
    "    alpha=0.5,\n",
    "    color=\"orange\",\n",
    "    label=r\"95% confidence interval\",\n",
    ")\n",
    "plt.scatter(x, s, c=\"b\", label=\"ground truth\")\n",
    "ax.set_xlabel(\"bvec indices\")\n",
    "ax.set_ylabel(\"signal\")\n",
    "ax.legend()\n",
    "plt.title(\"Gaussian process regression on dataset\")\n",
    "\n",
    "plt.show()"
   ]
  },
  {
   "cell_type": "markdown",
   "id": "694a4c075457425d",
   "metadata": {},
   "source": [
    "Plot the DWI signal for a given voxel\n",
    "Compute the DWI signal value wrt the b0 (how much larger/smaller is and add that delta to the unit sphere?) for each bvec direction and plot that?"
   ]
  },
  {
   "cell_type": "code",
   "execution_count": null,
   "id": "bb7d2aef53ac99f0",
   "metadata": {},
   "outputs": [],
   "source": [
    "# from mpl_toolkits.mplot3d import Axes3D\n",
    "# fig, ax = plt.subplots()\n",
    "# ax = fig.add_subplot(111, projection='3d')\n",
    "# plt.scatter(xx, yy, zz)"
   ]
  },
  {
   "cell_type": "markdown",
   "id": "62d7bc609b65c7cf",
   "metadata": {},
   "source": [
    "Plot the DWI signal brain data\n"
   ]
  },
  {
   "cell_type": "code",
   "execution_count": null,
   "id": "edb0e9d255516e38",
   "metadata": {},
   "outputs": [],
   "source": [
    "# plot_dwi(dmri_dataset.dataobj, dmri_dataset.affine, gradient=data_test[1], black_bg=True)"
   ]
  },
  {
   "cell_type": "markdown",
   "id": "1a52e2450fc61dc6",
   "metadata": {},
   "source": [
    "Plot the predicted DWI signal"
   ]
  },
  {
   "cell_type": "code",
   "execution_count": null,
   "id": "66150cf337b395e0",
   "metadata": {},
   "outputs": [],
   "source": [
    "# plot_dwi(predicted, dmri_dataset.affine, gradient=data_test[1], black_bg=True);"
   ]
  }
 ],
 "metadata": {
  "kernelspec": {
   "display_name": "Python 3 (ipykernel)",
   "language": "python",
   "name": "python3"
  },
  "language_info": {
   "codemirror_mode": {
    "name": "ipython",
    "version": 3
   },
   "file_extension": ".py",
   "mimetype": "text/x-python",
   "name": "python",
   "nbconvert_exporter": "python",
   "pygments_lexer": "ipython3",
   "version": "3.10.8"
  }
 },
 "nbformat": 4,
 "nbformat_minor": 5
}
