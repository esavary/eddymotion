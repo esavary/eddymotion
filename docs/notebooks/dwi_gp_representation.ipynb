{
 "cells": [
  {
   "metadata": {},
   "cell_type": "markdown",
   "source": "Gaussian process notebook",
   "id": "486923b289155658"
  },
  {
   "metadata": {
    "ExecuteTime": {
     "end_time": "2024-05-27T22:08:12.924224Z",
     "start_time": "2024-05-27T22:07:46.892722Z"
    }
   },
   "cell_type": "code",
   "source": [
    "import tempfile\n",
    "from pathlib import Path\n",
    "\n",
    "import numpy as np\n",
    "from sklearn.gaussian_process.kernels import DotProduct, WhiteKernel\n",
    "\n",
    "from eddymotion import model\n",
    "from eddymotion.data.dmri import DWI\n",
    "from eddymotion.data.splitting import lovo_split\n",
    "\n",
    "datadir = Path(\"../../test\")  # Adapt to your local path or download to a temp location using wget\n",
    "\n",
    "kernel = DotProduct() + WhiteKernel()\n",
    "\n",
    "dwi = DWI.from_filename(datadir / \"dwi.h5\")\n",
    "\n",
    "_dwi_data = dwi.dataobj\n",
    "# Use a subset of the data for now to see that something is written to the\n",
    "# output\n",
    "# bvecs = dwi.gradients[:3, :].T\n",
    "bvecs = dwi.gradients[:3, 10:13].T  # b0 values have already been masked\n",
    "# bvals = dwi.gradients[3:, 10:13].T  # Only for inspection purposes: [[1005.], [1000.], [ 995.]]\n",
    "dwi_data = _dwi_data[60:63, 60:64, 40:45, 10:13]\n",
    "\n",
    "# ToDo\n",
    "# Provide proper values/estimates for these\n",
    "a = 1\n",
    "h = 1  # should be a NIfTI image\n",
    "\n",
    "num_iterations = 5\n",
    "gp = model.GaussianProcessModel(\n",
    "    dwi=dwi, a=a, h=h, kernel=kernel, num_iterations=num_iterations\n",
    ")\n",
    "indices = list(range(bvecs.shape[0]))\n",
    "# ToDo\n",
    "# This should be done within the GP model class\n",
    "# Apply lovo strategy properly\n",
    "# Vectorize and parallelize\n",
    "result = np.zeros_like(dwi_data)\n",
    "for idx in indices:\n",
    "    lovo_idx = np.ones(len(indices), dtype=bool)\n",
    "    lovo_idx[idx] = False\n",
    "    X = bvecs[lovo_idx]\n",
    "    for i in range(dwi_data.shape[0]):\n",
    "        for j in range(dwi_data.shape[1]):\n",
    "            for k in range(dwi_data.shape[2]):\n",
    "                # ToDo\n",
    "                # Use a mask to avoid traversing background data\n",
    "                y = dwi_data[i, j, k, lovo_idx]\n",
    "                gp.fit(X, y)\n",
    "                prediction, _ = gp.predict(\n",
    "                    bvecs[idx, :][np.newaxis]\n",
    "                )  # Can take multiple values X[:2, :]\n",
    "                result[i, j, k, idx] = prediction.item()"
   ],
   "id": "da2274009534db61",
   "outputs": [
    {
     "ename": "KeyboardInterrupt",
     "evalue": "",
     "output_type": "error",
     "traceback": [
      "\u001B[0;31m---------------------------------------------------------------------------\u001B[0m",
      "\u001B[0;31mKeyboardInterrupt\u001B[0m                         Traceback (most recent call last)",
      "Cell \u001B[0;32mIn[3], line 21\u001B[0m\n\u001B[1;32m     17\u001B[0m _dwi_data \u001B[38;5;241m=\u001B[39m dwi\u001B[38;5;241m.\u001B[39mdataobj\n\u001B[1;32m     18\u001B[0m \u001B[38;5;66;03m# Use a subset of the data for now to see that something is written to the\u001B[39;00m\n\u001B[1;32m     19\u001B[0m \u001B[38;5;66;03m# output\u001B[39;00m\n\u001B[1;32m     20\u001B[0m \u001B[38;5;66;03m# bvecs = dwi.gradients[:3, :].T\u001B[39;00m\n\u001B[0;32m---> 21\u001B[0m bvecs \u001B[38;5;241m=\u001B[39m \u001B[43mdwi\u001B[49m\u001B[38;5;241m.\u001B[39mgradients[:\u001B[38;5;241m3\u001B[39m, \u001B[38;5;241m10\u001B[39m:\u001B[38;5;241m13\u001B[39m]\u001B[38;5;241m.\u001B[39mT  \u001B[38;5;66;03m# b0 values have already been masked\u001B[39;00m\n\u001B[1;32m     22\u001B[0m \u001B[38;5;66;03m# bvals = dwi.gradients[3:, 10:13].T  # Only for inspection purposes: [[1005.], [1000.], [ 995.]]\u001B[39;00m\n\u001B[1;32m     23\u001B[0m dwi_data \u001B[38;5;241m=\u001B[39m _dwi_data[\u001B[38;5;241m60\u001B[39m:\u001B[38;5;241m63\u001B[39m, \u001B[38;5;241m60\u001B[39m:\u001B[38;5;241m64\u001B[39m, \u001B[38;5;241m40\u001B[39m:\u001B[38;5;241m45\u001B[39m, \u001B[38;5;241m10\u001B[39m:\u001B[38;5;241m13\u001B[39m]\n",
      "Cell \u001B[0;32mIn[3], line 21\u001B[0m\n\u001B[1;32m     17\u001B[0m _dwi_data \u001B[38;5;241m=\u001B[39m dwi\u001B[38;5;241m.\u001B[39mdataobj\n\u001B[1;32m     18\u001B[0m \u001B[38;5;66;03m# Use a subset of the data for now to see that something is written to the\u001B[39;00m\n\u001B[1;32m     19\u001B[0m \u001B[38;5;66;03m# output\u001B[39;00m\n\u001B[1;32m     20\u001B[0m \u001B[38;5;66;03m# bvecs = dwi.gradients[:3, :].T\u001B[39;00m\n\u001B[0;32m---> 21\u001B[0m bvecs \u001B[38;5;241m=\u001B[39m \u001B[43mdwi\u001B[49m\u001B[38;5;241m.\u001B[39mgradients[:\u001B[38;5;241m3\u001B[39m, \u001B[38;5;241m10\u001B[39m:\u001B[38;5;241m13\u001B[39m]\u001B[38;5;241m.\u001B[39mT  \u001B[38;5;66;03m# b0 values have already been masked\u001B[39;00m\n\u001B[1;32m     22\u001B[0m \u001B[38;5;66;03m# bvals = dwi.gradients[3:, 10:13].T  # Only for inspection purposes: [[1005.], [1000.], [ 995.]]\u001B[39;00m\n\u001B[1;32m     23\u001B[0m dwi_data \u001B[38;5;241m=\u001B[39m _dwi_data[\u001B[38;5;241m60\u001B[39m:\u001B[38;5;241m63\u001B[39m, \u001B[38;5;241m60\u001B[39m:\u001B[38;5;241m64\u001B[39m, \u001B[38;5;241m40\u001B[39m:\u001B[38;5;241m45\u001B[39m, \u001B[38;5;241m10\u001B[39m:\u001B[38;5;241m13\u001B[39m]\n",
      "File \u001B[0;32m/snap/pycharm-professional/387/plugins/python/helpers/pydev/_pydevd_bundle/pydevd_frame.py:888\u001B[0m, in \u001B[0;36mPyDBFrame.trace_dispatch\u001B[0;34m(self, frame, event, arg)\u001B[0m\n\u001B[1;32m    885\u001B[0m             stop \u001B[38;5;241m=\u001B[39m \u001B[38;5;28;01mFalse\u001B[39;00m\n\u001B[1;32m    887\u001B[0m \u001B[38;5;28;01mif\u001B[39;00m plugin_stop:\n\u001B[0;32m--> 888\u001B[0m     stopped_on_plugin \u001B[38;5;241m=\u001B[39m \u001B[43mplugin_manager\u001B[49m\u001B[38;5;241;43m.\u001B[39;49m\u001B[43mstop\u001B[49m\u001B[43m(\u001B[49m\u001B[43mmain_debugger\u001B[49m\u001B[43m,\u001B[49m\u001B[43m \u001B[49m\u001B[43mframe\u001B[49m\u001B[43m,\u001B[49m\u001B[43m \u001B[49m\u001B[43mevent\u001B[49m\u001B[43m,\u001B[49m\u001B[43m \u001B[49m\u001B[38;5;28;43mself\u001B[39;49m\u001B[38;5;241;43m.\u001B[39;49m\u001B[43m_args\u001B[49m\u001B[43m,\u001B[49m\u001B[43m \u001B[49m\u001B[43mstop_info\u001B[49m\u001B[43m,\u001B[49m\u001B[43m \u001B[49m\u001B[43marg\u001B[49m\u001B[43m,\u001B[49m\u001B[43m \u001B[49m\u001B[43mstep_cmd\u001B[49m\u001B[43m)\u001B[49m\n\u001B[1;32m    889\u001B[0m \u001B[38;5;28;01melif\u001B[39;00m stop:\n\u001B[1;32m    890\u001B[0m     \u001B[38;5;28;01mif\u001B[39;00m is_line:\n",
      "File \u001B[0;32m/snap/pycharm-professional/387/plugins/python/helpers-pro/jupyter_debug/pydev_jupyter_plugin.py:169\u001B[0m, in \u001B[0;36mstop\u001B[0;34m(plugin, pydb, frame, event, args, stop_info, arg, step_cmd)\u001B[0m\n\u001B[1;32m    167\u001B[0m     frame \u001B[38;5;241m=\u001B[39m suspend_jupyter(main_debugger, thread, frame, step_cmd)\n\u001B[1;32m    168\u001B[0m     \u001B[38;5;28;01mif\u001B[39;00m frame:\n\u001B[0;32m--> 169\u001B[0m         \u001B[43mmain_debugger\u001B[49m\u001B[38;5;241;43m.\u001B[39;49m\u001B[43mdo_wait_suspend\u001B[49m\u001B[43m(\u001B[49m\u001B[43mthread\u001B[49m\u001B[43m,\u001B[49m\u001B[43m \u001B[49m\u001B[43mframe\u001B[49m\u001B[43m,\u001B[49m\u001B[43m \u001B[49m\u001B[43mevent\u001B[49m\u001B[43m,\u001B[49m\u001B[43m \u001B[49m\u001B[43marg\u001B[49m\u001B[43m)\u001B[49m\n\u001B[1;32m    170\u001B[0m         \u001B[38;5;28;01mreturn\u001B[39;00m \u001B[38;5;28;01mTrue\u001B[39;00m\n\u001B[1;32m    171\u001B[0m \u001B[38;5;28;01mreturn\u001B[39;00m \u001B[38;5;28;01mFalse\u001B[39;00m\n",
      "File \u001B[0;32m/snap/pycharm-professional/387/plugins/python/helpers/pydev/pydevd.py:1185\u001B[0m, in \u001B[0;36mPyDB.do_wait_suspend\u001B[0;34m(self, thread, frame, event, arg, send_suspend_message, is_unhandled_exception)\u001B[0m\n\u001B[1;32m   1182\u001B[0m         from_this_thread\u001B[38;5;241m.\u001B[39mappend(frame_id)\n\u001B[1;32m   1184\u001B[0m \u001B[38;5;28;01mwith\u001B[39;00m \u001B[38;5;28mself\u001B[39m\u001B[38;5;241m.\u001B[39m_threads_suspended_single_notification\u001B[38;5;241m.\u001B[39mnotify_thread_suspended(thread_id, stop_reason):\n\u001B[0;32m-> 1185\u001B[0m     \u001B[38;5;28;43mself\u001B[39;49m\u001B[38;5;241;43m.\u001B[39;49m\u001B[43m_do_wait_suspend\u001B[49m\u001B[43m(\u001B[49m\u001B[43mthread\u001B[49m\u001B[43m,\u001B[49m\u001B[43m \u001B[49m\u001B[43mframe\u001B[49m\u001B[43m,\u001B[49m\u001B[43m \u001B[49m\u001B[43mevent\u001B[49m\u001B[43m,\u001B[49m\u001B[43m \u001B[49m\u001B[43marg\u001B[49m\u001B[43m,\u001B[49m\u001B[43m \u001B[49m\u001B[43msuspend_type\u001B[49m\u001B[43m,\u001B[49m\u001B[43m \u001B[49m\u001B[43mfrom_this_thread\u001B[49m\u001B[43m)\u001B[49m\n",
      "File \u001B[0;32m/snap/pycharm-professional/387/plugins/python/helpers/pydev/pydevd.py:1200\u001B[0m, in \u001B[0;36mPyDB._do_wait_suspend\u001B[0;34m(self, thread, frame, event, arg, suspend_type, from_this_thread)\u001B[0m\n\u001B[1;32m   1197\u001B[0m             \u001B[38;5;28mself\u001B[39m\u001B[38;5;241m.\u001B[39m_call_mpl_hook()\n\u001B[1;32m   1199\u001B[0m         \u001B[38;5;28mself\u001B[39m\u001B[38;5;241m.\u001B[39mprocess_internal_commands()\n\u001B[0;32m-> 1200\u001B[0m         \u001B[43mtime\u001B[49m\u001B[38;5;241;43m.\u001B[39;49m\u001B[43msleep\u001B[49m\u001B[43m(\u001B[49m\u001B[38;5;241;43m0.01\u001B[39;49m\u001B[43m)\u001B[49m\n\u001B[1;32m   1202\u001B[0m \u001B[38;5;28mself\u001B[39m\u001B[38;5;241m.\u001B[39mcancel_async_evaluation(get_current_thread_id(thread), \u001B[38;5;28mstr\u001B[39m(\u001B[38;5;28mid\u001B[39m(frame)))\n\u001B[1;32m   1204\u001B[0m \u001B[38;5;66;03m# process any stepping instructions\u001B[39;00m\n",
      "\u001B[0;31mKeyboardInterrupt\u001B[0m: "
     ]
    }
   ],
   "execution_count": 3
  },
  {
   "metadata": {},
   "cell_type": "markdown",
   "source": "Plot the data",
   "id": "77e77cd4c73409d3"
  },
  {
   "metadata": {},
   "cell_type": "code",
   "outputs": [],
   "execution_count": null,
   "source": [
    "from matplotlib import pyplot as plt \n",
    "%matplotlib inline\n",
    "\n",
    "s = dwi_data[1, 1, 2, :]\n",
    "s_hat = result[1, 1, 2, :]\n",
    "x = indices\n",
    "\n",
    "fig, ax = plt.subplots()\n",
    "ax.plot(x, np.c_[s, s_hat], label=[\"ground truth\", \"predicted\"])\n",
    "ax.set_xlabel(\"bvec indices\")\n",
    "ax.set_ylabel(\"signal\")\n",
    "ax.legend()\n",
    "\n",
    "plt.show()"
   ],
   "id": "4e51f22890fb045a"
  },
  {
   "metadata": {},
   "cell_type": "markdown",
   "source": "Plot the DWI signal brain data",
   "id": "46bb0987d58eb394"
  },
  {
   "metadata": {},
   "cell_type": "code",
   "outputs": [],
   "execution_count": null,
   "source": "# plot_dwi(dmri_dataset.dataobj, dmri_dataset.affine, gradient=data_test[1], black_bg=True)",
   "id": "edb0e9d255516e38"
  },
  {
   "metadata": {},
   "cell_type": "markdown",
   "source": "Plot the predicted DWI signal",
   "id": "1a52e2450fc61dc6"
  },
  {
   "metadata": {},
   "cell_type": "code",
   "outputs": [],
   "execution_count": null,
   "source": "# plot_dwi(predicted, dmri_dataset.affine, gradient=data_test[1], black_bg=True);",
   "id": "66150cf337b395e0"
  }
 ],
 "metadata": {
  "kernelspec": {
   "display_name": "Python 3",
   "language": "python",
   "name": "python3"
  },
  "language_info": {
   "codemirror_mode": {
    "name": "ipython",
    "version": 2
   },
   "file_extension": ".py",
   "mimetype": "text/x-python",
   "name": "python",
   "nbconvert_exporter": "python",
   "pygments_lexer": "ipython2",
   "version": "2.7.6"
  }
 },
 "nbformat": 4,
 "nbformat_minor": 5
}
